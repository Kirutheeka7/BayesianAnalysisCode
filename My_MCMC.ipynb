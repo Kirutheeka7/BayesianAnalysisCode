{
 "cells": [
  {
   "cell_type": "markdown",
   "id": "5dec4e4b-5a0c-49ce-9123-d8786d929032",
   "metadata": {},
   "source": [
    "# Metropolis-Hastings Markov Chain Monte Carlo method\n",
    "# DATE: 15/07/2025\n",
    "From this webpage: https://exowanderer.medium.com/metropolis-hastings-mcmc-from-scratch-in-python-c21e53c485b7\n"
   ]
  },
  {
   "cell_type": "code",
   "execution_count": 1,
   "id": "bfd1734c-f04d-4636-96fe-d2bc7f7a654c",
   "metadata": {},
   "outputs": [],
   "source": [
    "def mcmc_updater(curr_state, curr_likeli, \n",
    "      likelihood, proposal_distribution):\n",
    "    \"\"\" Propose a new state and compare the likelihoods\n",
    "    \n",
    "    Given the current state (initially random), \n",
    "      current likelihood, the likelihood function, and \n",
    "      the transition (proposal) distribution, `mcmc_updater` generates \n",
    "      a new proposal, evaluate its likelihood, compares that to the current \n",
    "      likelihood with a uniformly samples threshold, \n",
    "    then it returns new or current state in the MCMC chain.\n",
    "\n",
    "    Args:\n",
    "        curr_state (float): the current parameter/state value\n",
    "        curr_likeli (float): the current likelihood estimate\n",
    "        likelihood (function): a function handle to compute the likelihood\n",
    "        proposal_distribution (function): a function handle to compute the \n",
    "          next proposal state\n",
    "\n",
    "    Returns:\n",
    "        (tuple): either the current state or the new state\n",
    "          and its corresponding likelihood\n",
    "    \"\"\"\n",
    "    # Generate a proposal state using the proposal distribution\n",
    "    # Proposal state == new guess state to be compared to current\n",
    "    proposal_state = proposal_distribution(curr_state)\n",
    "\n",
    "    # Calculate the acceptance criterion\n",
    "    prop_likeli = likelihood(proposal_state)\n",
    "    accept_crit = prop_likeli / curr_likeli\n",
    "\n",
    "    # Generate a random number between 0 and 1\n",
    "    accept_threshold = np.random.uniform(0, 1)\n",
    "\n",
    "    # If the acceptance criterion is greater than the random number,\n",
    "    # accept the proposal state as the current state\n",
    "    if accept_crit > accept_threshold:\n",
    "        return proposal_state, prop_likeli\n",
    "\n",
    "    # Else\n",
    "    return curr_state, curr_likeli"
   ]
  },
  {
   "cell_type": "code",
   "execution_count": 2,
   "id": "e58a9161-3dd4-43bd-a6e9-3bebdf11932e",
   "metadata": {},
   "outputs": [],
   "source": [
    "import numpy as np\n",
    "\n",
    "def metropolis_hastings(\n",
    "        likelihood, proposal_distribution, initial_state, \n",
    "        num_samples, stepsize=0.5, burnin=0.2):\n",
    "    \"\"\" Compute the Markov Chain Monte Carlo\n",
    "\n",
    "    Args:\n",
    "        likelihood (function): a function handle to compute the likelihood\n",
    "        proposal_distribution (function): a function handle to compute the \n",
    "          next proposal state\n",
    "        initial_state (list): The initial conditions to start the chain\n",
    "        num_samples (integer): The number of samples to compte, \n",
    "          or length of the chain\n",
    "        burnin (float): a float value from 0 to 1.\n",
    "          The percentage of chain considered to be the burnin length\n",
    "\n",
    "    Returns:\n",
    "        samples (list): The Markov Chain,\n",
    "          samples from the posterior distribution\n",
    "    \"\"\"\n",
    "    samples = []\n",
    "\n",
    "    # The number of samples in the burn in phase\n",
    "    idx_burnin = int(burnin * num_samples)\n",
    "\n",
    "    # Set the current state to the initial state\n",
    "    curr_state = initial_state\n",
    "    curr_likeli = likelihood(curr_state)\n",
    "\n",
    "    for i in range(num_samples):\n",
    "        # The proposal distribution sampling and comparison\n",
    "        #   occur within the mcmc_updater routine\n",
    "        curr_state, curr_likeli = mcmc_updater(\n",
    "            curr_state=curr_state,\n",
    "            curr_likeli=curr_likeli,\n",
    "            likelihood=likelihood,\n",
    "            proposal_distribution=proposal_distribution\n",
    "        )\n",
    "\n",
    "        # Append the current state to the list of samples\n",
    "        if i >= idx_burnin:\n",
    "            # Only append after the burnin to avoid including\n",
    "            #   parts of the chain that are prior-dominated\n",
    "            samples.append(curr_state)\n",
    "\n",
    "    return samples"
   ]
  },
  {
   "cell_type": "code",
   "execution_count": 3,
   "id": "332b06b5-a740-43ee-9fd4-5e926e7a9497",
   "metadata": {},
   "outputs": [],
   "source": [
    "def likelihood(x):\n",
    "    # Standard Normal Distribution\n",
    "    # An underlying assumption of linear regression is that the residuals\n",
    "    # are Gaussian Normal Distributed; often, Standard Normal distributed\n",
    "    return np.exp(-x**2 / 2) / np.sqrt(2 * np.pi)\n",
    "\n",
    "def proposal_distribution(x, stepsize=0.5):\n",
    "    # Select the proposed state (new guess) from a Gaussian distribution\n",
    "    #  centered at the current state, within a Guassian of width `stepsize`\n",
    "    return np.random.normal(x, stepsize)"
   ]
  },
  {
   "cell_type": "code",
   "execution_count": 9,
   "id": "31940667-a893-4446-b989-500dd3f3ce0b",
   "metadata": {},
   "outputs": [],
   "source": [
    "np.random.seed(42)\n",
    "\n",
    "initial_state = 0  # Trivial case, starting at the mode of the likelihood\n",
    "num_samples = int(1e4)\n",
    "burnin = 0.2\n",
    "\n",
    "samples = metropolis_hastings(\n",
    "    likelihood,\n",
    "    proposal_distribution,\n",
    "    initial_state,\n",
    "    num_samples,\n",
    "    burnin=burnin\n",
    ")"
   ]
  },
  {
   "cell_type": "code",
   "execution_count": 10,
   "id": "a10d8771-5ff0-46c6-a22b-e42221e4eeb5",
   "metadata": {},
   "outputs": [
    {
     "data": {
      "text/plain": [
       "8000"
      ]
     },
     "execution_count": 10,
     "metadata": {},
     "output_type": "execute_result"
    }
   ],
   "source": [
    "len(samples)"
   ]
  },
  {
   "cell_type": "code",
   "execution_count": 6,
   "id": "b7b0197c-a9b8-40e8-83b4-bcc2e69796fa",
   "metadata": {},
   "outputs": [
    {
     "data": {
      "image/png": "[encoded data removed]",
      "text/plain": [
       "<Figure size 640x480 with 1 Axes>"
      ]
     },
     "metadata": {},
     "output_type": "display_data"
    }
   ],
   "source": [
    "import matplotlib.pyplot as plt\n",
    "plt.hist(samples)\n",
    "plt.show()"
   ]
  },
  {
   "cell_type": "code",
   "execution_count": null,
   "id": "7d4a349f-3dc4-4a49-97ae-7e26bb074648",
   "metadata": {},
   "outputs": [],
   "source": []
  }
 ],
 "metadata": {
  "kernelspec": {
   "display_name": "Python 3 (ipykernel)",
   "language": "python",
   "name": "python3"
  },
  "language_info": {
   "codemirror_mode": {
    "name": "ipython",
    "version": 3
   },
   "file_extension": ".py",
   "mimetype": "text/x-python",
   "name": "python",
   "nbconvert_exporter": "python",
   "pygments_lexer": "ipython3",
   "version": "3.10.13"
  }
 },
 "nbformat": 4,
 "nbformat_minor": 5
}
